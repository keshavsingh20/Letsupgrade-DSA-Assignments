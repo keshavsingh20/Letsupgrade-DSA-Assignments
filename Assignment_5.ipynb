{
 "cells": [
  {
   "cell_type": "markdown",
   "metadata": {},
   "source": [
    "# Question 1\n",
    "Name 5 sorting algorithms, also write their time complexities(best, average, worst)."
   ]
  },
  {
   "cell_type": "markdown",
   "metadata": {},
   "source": [
    "# Sorting Best   Average  Worst\n",
    "Selection Sort  Ω(n^2)    θ(n^2)        O(n^2)\n",
    "Bubble Sort     Ω(n)      θ(n^2)        O(n^2)\n",
    "Insertion Sor   Ω(n)      θ(n^2)        O(n^2)\n",
    "Heap Sort       Ω(n log(n)) θ(n log(n)) O(n log(n))\n",
    "Quick Sort      Ω(n log(n)) θ(n log(n)) O(n^2)"
   ]
  },
  {
   "cell_type": "markdown",
   "metadata": {},
   "source": [
    "# Question 2\n",
    "Implement selection sort algorithm using Python.|"
   ]
  },
  {
   "cell_type": "code",
   "execution_count": 1,
   "metadata": {},
   "outputs": [
    {
     "name": "stdout",
     "output_type": "stream",
     "text": [
      "[3, 6, 9, 21, 33]\n"
     ]
    }
   ],
   "source": [
    "def selectionSort( itemsList ):\n",
    "    n = len( itemsList )\n",
    "    for i in range( n - 1 ): \n",
    "        minValueIndex = i\n",
    "\n",
    "        for j in range( i + 1, n ):\n",
    "            if itemsList[j] < itemsList[minValueIndex] :\n",
    "                minValueIndex = j\n",
    "\n",
    "        if minValueIndex != i :\n",
    "            temp = itemsList[i]\n",
    "            itemsList[i] = itemsList[minValueIndex]\n",
    "            itemsList[minValueIndex] = temp\n",
    "\n",
    "    return itemsList\n",
    "\n",
    "\n",
    "el = [21,6,9,33,3]\n",
    "\n",
    "print(selectionSort(el))"
   ]
  },
  {
   "cell_type": "markdown",
   "metadata": {},
   "source": [
    "# Question 3\n",
    "Implement pop operation of the stack"
   ]
  },
  {
   "cell_type": "code",
   "execution_count": 2,
   "metadata": {},
   "outputs": [
    {
     "name": "stdout",
     "output_type": "stream",
     "text": [
      "Initial stack\n",
      "['a', 'b', 'c']\n",
      "\n",
      "Elements poped from stack:\n",
      "c\n",
      "b\n",
      "a\n",
      "\n",
      "Stack after elements are poped:\n",
      "[]\n"
     ]
    }
   ],
   "source": [
    "stack = []\n",
    " \n",
    "# append() function to push\n",
    "stack.append('a')\n",
    "stack.append('b')\n",
    "stack.append('c')\n",
    " \n",
    "print('Initial stack')\n",
    "print(stack)\n",
    " \n",
    "# pop() fucntion to pop\n",
    "print('\\nElements poped from stack:')\n",
    "print(stack.pop())\n",
    "print(stack.pop())\n",
    "print(stack.pop())\n",
    " \n",
    "print('\\nStack after elements are poped:')\n",
    "print(stack)"
   ]
  },
  {
   "cell_type": "markdown",
   "metadata": {},
   "source": [
    "# Question 4\n",
    "Implement dequeue operation of the queue"
   ]
  },
  {
   "cell_type": "code",
   "execution_count": 3,
   "metadata": {},
   "outputs": [
    {
     "name": "stdout",
     "output_type": "stream",
     "text": [
      "True\n",
      "4\n",
      "False\n",
      "10\n",
      "11\n",
      "[55, 7, 8, 5, 45]\n"
     ]
    }
   ],
   "source": [
    "class Deque:\n",
    "    def __init__(self):\n",
    "        self.items = []\n",
    "\n",
    "    def isEmpty(self):\n",
    "        return self.items == []\n",
    "\n",
    "    def addRear(self, item):\n",
    "        self.items.append(item)\n",
    "\n",
    "    def addFront(self, item):\n",
    "        self.items.insert(0, item)\n",
    "\n",
    "    def removeFront(self):\n",
    "        return self.items.pop()\n",
    "\n",
    "    def removeRear(self):\n",
    "        return self.items.pop(0)\n",
    "\n",
    "    def size(self):\n",
    "        return len(self.items)\n",
    "\n",
    "\n",
    "d = Deque()\n",
    "print(d.isEmpty())\n",
    "d.addRear(8)\n",
    "d.addRear(5)\n",
    "d.addFront(7)\n",
    "d.addFront(10)\n",
    "print(d.size())\n",
    "print(d.isEmpty())\n",
    "d.addRear(11)\n",
    "print(d.removeRear())\n",
    "print(d.removeFront())\n",
    "d.addFront(55)\n",
    "d.addRear(45)\n",
    "print(d.items)"
   ]
  },
  {
   "cell_type": "code",
   "execution_count": null,
   "metadata": {},
   "outputs": [],
   "source": []
  }
 ],
 "metadata": {
  "kernelspec": {
   "display_name": "Python 3",
   "language": "python",
   "name": "python3"
  },
  "language_info": {
   "codemirror_mode": {
    "name": "ipython",
    "version": 3
   },
   "file_extension": ".py",
   "mimetype": "text/x-python",
   "name": "python",
   "nbconvert_exporter": "python",
   "pygments_lexer": "ipython3",
   "version": "3.8.3"
  }
 },
 "nbformat": 4,
 "nbformat_minor": 4
}
